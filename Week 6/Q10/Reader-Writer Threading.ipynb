{
 "cells": [
  {
   "cell_type": "code",
   "execution_count": 4,
   "metadata": {},
   "outputs": [
    {
     "name": "stdout",
     "output_type": "stream",
     "text": [
      "Reader is Reading!\n",
      "Shared Data: 0\n",
      "\n",
      "Writer is Writing!\n",
      "Writer is Releasing the lock!\n",
      "\n",
      "Writer is Writing!\n",
      "Writer is Releasing the lock!\n",
      "\n",
      "Reader is Reading!\n",
      "Shared Data: 2\n",
      "\n",
      "Writer is Writing!\n",
      "Writer is Releasing the lock!\n",
      "\n",
      "Reader is Reading!\n",
      "Shared Data: 3\n",
      "\n",
      "Writer is Writing!\n",
      "Writer is Releasing the lock!\n",
      "\n",
      "Writer is Writing!\n",
      "Writer is Releasing the lock!\n",
      "\n",
      "Reader is Reading!\n",
      "Shared Data: 5\n",
      "\n",
      "Reader is Reading!\n",
      "Shared Data: 5\n",
      "\n",
      "Final value :  5\n"
     ]
    }
   ],
   "source": [
    "import threading\n",
    "import random\n",
    "\n",
    "global x              \n",
    "x = 0\n",
    "wlock = threading.Lock()\n",
    "rlock = threading.Lock()\n",
    "\n",
    "def Reader():\n",
    "    global x\n",
    "    try:\n",
    "        wlock.acquire()\n",
    "        print('Reader is Reading!')\n",
    "        print('Shared Data:', x)\n",
    "        wlock.release()\n",
    "        print()\n",
    "    except:\n",
    "        print(\"Reader couldn't read, as Writing is taking place.\")\n",
    "\n",
    "def Writer():\n",
    "    global x\n",
    "    try:\n",
    "        wlock.acquire()\n",
    "        rlock.acquire()\n",
    "        print('Writer is Writing!')\n",
    "        x += 1\n",
    "        print('Writer is Releasing the lock!')\n",
    "        wlock.release()\n",
    "        rlock.release()\n",
    "        print()\n",
    "    except:\n",
    "        print(\"Writer couldn't write, as Reading or Writing is taking place.\")\n",
    "\n",
    "if __name__ == '__main__':\n",
    "    for i in range(0, 10):\n",
    "        randomNumber = random.randint(0, 100) \n",
    "        if(randomNumber > 50):\n",
    "            threading1 = threading.Thread(target = Reader)\n",
    "            threading1.start()\n",
    "        else:\n",
    "            threading2 = threading.Thread(target = Writer)\n",
    "            threading2.start()\n",
    "\n",
    "threading1.join()\n",
    "threading2.join()\n",
    "\n",
    "print(\"Final value : \",x)"
   ]
  },
  {
   "cell_type": "code",
   "execution_count": null,
   "metadata": {},
   "outputs": [],
   "source": []
  },
  {
   "cell_type": "code",
   "execution_count": null,
   "metadata": {},
   "outputs": [],
   "source": []
  }
 ],
 "metadata": {
  "kernelspec": {
   "display_name": "Python 3",
   "language": "python",
   "name": "python3"
  },
  "language_info": {
   "codemirror_mode": {
    "name": "ipython",
    "version": 3
   },
   "file_extension": ".py",
   "mimetype": "text/x-python",
   "name": "python",
   "nbconvert_exporter": "python",
   "pygments_lexer": "ipython3",
   "version": "3.7.6"
  }
 },
 "nbformat": 4,
 "nbformat_minor": 4
}
